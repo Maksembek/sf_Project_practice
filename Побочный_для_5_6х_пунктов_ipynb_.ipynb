{
  "nbformat": 4,
  "nbformat_minor": 0,
  "metadata": {
    "colab": {
      "provenance": [],
      "toc_visible": true
    },
    "kernelspec": {
      "name": "python3",
      "display_name": "Python 3"
    }
  },
  "cells": [
    {
      "cell_type": "markdown",
      "source": [
        "# Старт"
      ],
      "metadata": {
        "id": "TEwR5JzwY1JJ"
      }
    },
    {
      "cell_type": "code",
      "source": [
        "import numpy as np\n",
        "import pandas as pd\n",
        "import matplotlib.pyplot as plt\n",
        "import seaborn as sns\n",
        "import plotly.express as px\n",
        "\n",
        "from scipy import stats\n",
        "from sklearn import linear_model\n",
        "from sklearn import preprocessing\n",
        "from sklearn import model_selection\n",
        "from sklearn import tree\n",
        "from sklearn import ensemble\n",
        "from sklearn import metrics\n",
        "from sklearn import cluster\n",
        "from sklearn import feature_selection"
      ],
      "metadata": {
        "id": "-6lZaOChp_K0"
      },
      "execution_count": 30,
      "outputs": []
    },
    {
      "cell_type": "code",
      "source": [
        "import pandas as pd\n",
        "\n",
        "\n",
        "# это личные функции, поэтому напишу для них документацию\n",
        "# Строки из upload_google() использоваться будут не раз\n",
        "# но не всегда совместно с функциями ниже, сделаем из них тоже функцию\n",
        "\n",
        "def upload_google():\n",
        "  \"\"\"\n",
        "  Функция импортирует модуль drive из пакета google.colab\n",
        "  Для монтирования Google Drive. \n",
        "  \"\"\"\n",
        "\n",
        "  from google.colab import drive\n",
        "  drive.mount('drive')\n",
        "\n",
        "\n",
        "def load_result(name_table):\n",
        "  \"\"\"\n",
        "  Функция создает объект DataFrame на основе имя заданной таблицы.\n",
        "\n",
        "  Параметры:\n",
        "  name_new_df (pandas DataFrame): Объект DataFrame, который будет создан на основе таблицы.\n",
        "  name_table (str): Имя таблицы для загрузки без формата.\n",
        "\n",
        "  Возвращает:\n",
        "  pandas DataFrame: Созданный объект DataFrame.\n",
        "\n",
        "  Пример использования:\n",
        "  df = load_result(df, 'my_data')\n",
        "  \"\"\"\n",
        "  name_table += \".csv\" \n",
        "  name_new_df = pd.read_csv('drive/My Drive/' + name_table)\n",
        "  # Задается ненужный столбец, избавляемся от него\n",
        "\n",
        "  return name_new_df\n"
      ],
      "metadata": {
        "id": "b7u9xEDoZEQW"
      },
      "execution_count": 31,
      "outputs": []
    },
    {
      "cell_type": "markdown",
      "source": [
        "Раздел от функций"
      ],
      "metadata": {
        "id": "2WV484XHwtDt"
      }
    },
    {
      "cell_type": "code",
      "source": [
        "upload_google()  # подключая библиотеки и монтирую необходимое для работы гугл диска\n",
        "\n",
        "X_train = load_result('5X_train')\n",
        "X_valid = load_result('5X_valid')\n",
        "\n",
        "y_train_log = pd.read_csv('drive/My Drive/5y_train_log.csv', usecols=['trip_duration_log'], squeeze=True)\n",
        "y_valid_log = pd.read_csv('drive/My Drive/5y_valid_log.csv', usecols=['trip_duration_log'], squeeze=True)\n"
      ],
      "metadata": {
        "id": "KL3fmTVnstdf"
      },
      "execution_count": null,
      "outputs": []
    },
    {
      "cell_type": "code",
      "source": [
        "# проверим, что y_train_log и y_valid_log считались нормально\n",
        "print(y_train_log.shape, y_valid_log.shape)"
      ],
      "metadata": {
        "colab": {
          "base_uri": "https://localhost:8080/"
        },
        "id": "m-rbyh0jxbJT",
        "outputId": "6034f74c-294e-4fd3-d6b1-4b8f096ee33a"
      },
      "execution_count": 33,
      "outputs": [
        {
          "output_type": "stream",
          "name": "stdout",
          "text": [
            "(977016,) (481217,)\n"
          ]
        }
      ]
    },
    {
      "cell_type": "code",
      "source": [
        "# Код, который запишет вывод ячейки в файл\n",
        "import sys\n",
        "\n",
        "# Сохраняем настройки вывода\n",
        "start_stdout = sys.stdout\n",
        "\n",
        "# Файл для записи\n",
        "with open('output_new.txt', 'w') as f:\n",
        "    # Перенаправление вывод в файл\n",
        "    sys.stdout = f\n",
        "\n",
        "    print(\"INFO о X_train\")\n",
        "    X_train.info()\n",
        "\n",
        "    print(\"INFO о X_valid\")\n",
        "    X_valid.info()\n",
        "\n",
        "    print(\"INFO о y_train_alog\")\n",
        "    y_train_log.info()\n",
        "\n",
        "    print(\"INFO о y_valid_log\")\n",
        "    y_valid_log.info()\n",
        "\n",
        "\n",
        "# Восстановление стандартного вывода\n",
        "sys.stdout = start_stdout\n"
      ],
      "metadata": {
        "id": "W00Ckaahb4bZ"
      },
      "execution_count": 34,
      "outputs": []
    },
    {
      "cell_type": "markdown",
      "source": [
        "Чтобы понять, что данные после пункта сохранения и загрузки одинаковые, сравним их информацию\n",
        "\n",
        "/output_delete_train_data.txt это output.txt, но без train_data \n"
      ],
      "metadata": {
        "id": "Qc-Zg_vYxkpx"
      }
    },
    {
      "cell_type": "code",
      "source": [
        "# Чтение файлов\n",
        "file1 = '/content/output_delete_train_data.txt'\n",
        "file2 = '/content/output_new.txt'\n",
        "\n",
        "# Сравнение строк и вывод различающихся строк блоками\n",
        "diff_blocks = []\n",
        "current_block = []\n",
        "with open(file1, 'r') as f1, open(file2, 'r') as f2:\n",
        "    for line1, line2 in zip(f1, f2):\n",
        "        if line1 != line2:\n",
        "            current_block.extend([line1, line2])\n",
        "        elif current_block:\n",
        "            diff_blocks.append(current_block)\n",
        "            current_block = []\n",
        "    if current_block:\n",
        "        diff_blocks.append(current_block)\n",
        "\n",
        "# Вывод различающихся блоков строк\n",
        "if diff_blocks:\n",
        "    print(\"Различающиеся блоки строк:\")\n",
        "    for block in diff_blocks:\n",
        "        print('--- Начало блока ---')\n",
        "        print(''.join(block), end=\"\")\n",
        "        print('--- Конец блока ---\\n\\n')\n",
        "else:\n",
        "    print(\"Файлы идентичны\")\n"
      ],
      "metadata": {
        "colab": {
          "base_uri": "https://localhost:8080/"
        },
        "id": "7euYaA6ov_Am",
        "outputId": "b41e98b8-58cb-4a69-bf8b-b514dbe7c3c0"
      },
      "execution_count": 35,
      "outputs": [
        {
          "output_type": "stream",
          "name": "stdout",
          "text": [
            "Различающиеся блоки строк:\n",
            "--- Начало блока ---\n",
            "INFO о y_train_log\n",
            "INFO о y_train_alog\n",
            "--- Конец блока ---\n",
            "\n",
            "\n",
            "--- Начало блока ---\n",
            "Int64Index: 977016 entries, 293850 to 121958\n",
            "RangeIndex: 977016 entries, 0 to 977015\n",
            "--- Конец блока ---\n",
            "\n",
            "\n",
            "--- Начало блока ---\n",
            "memory usage: 14.9 MB\n",
            "memory usage: 7.5 MB\n",
            "--- Конец блока ---\n",
            "\n",
            "\n",
            "--- Начало блока ---\n",
            "Int64Index: 481217 entries, 452652 to 1108352\n",
            "RangeIndex: 481217 entries, 0 to 481216\n",
            "--- Конец блока ---\n",
            "\n",
            "\n",
            "--- Начало блока ---\n",
            "memory usage: 7.3 MB\n",
            "memory usage: 3.7 MB\n",
            "--- Конец блока ---\n",
            "\n",
            "\n"
          ]
        }
      ]
    },
    {
      "cell_type": "markdown",
      "source": [
        "Как видим, поменялся только диапазон значений индекса, но число, и формат остался \n",
        "\n",
        "(memory usage это показатель внутренний, его не рассматриваем)  "
      ],
      "metadata": {
        "id": "TCGfcNwVx8gw"
      }
    },
    {
      "cell_type": "markdown",
      "source": [
        "#### **Начало обучения**"
      ],
      "metadata": {
        "id": "3k1YeHqPxLzb"
      }
    },
    {
      "cell_type": "code",
      "source": [
        "linear_reg = linear_model.LinearRegression()\n",
        "linear_reg.fit(X_train, y_train_log)"
      ],
      "metadata": {
        "colab": {
          "base_uri": "https://localhost:8080/",
          "height": 74
        },
        "id": "HZm_cR6fp4Hn",
        "outputId": "e28e8f33-45b3-4fa6-ff7b-10db01a90e79"
      },
      "execution_count": 36,
      "outputs": [
        {
          "output_type": "execute_result",
          "data": {
            "text/plain": [
              "LinearRegression()"
            ],
            "text/html": [
              "<style>#sk-container-id-3 {color: black;background-color: white;}#sk-container-id-3 pre{padding: 0;}#sk-container-id-3 div.sk-toggleable {background-color: white;}#sk-container-id-3 label.sk-toggleable__label {cursor: pointer;display: block;width: 100%;margin-bottom: 0;padding: 0.3em;box-sizing: border-box;text-align: center;}#sk-container-id-3 label.sk-toggleable__label-arrow:before {content: \"▸\";float: left;margin-right: 0.25em;color: #696969;}#sk-container-id-3 label.sk-toggleable__label-arrow:hover:before {color: black;}#sk-container-id-3 div.sk-estimator:hover label.sk-toggleable__label-arrow:before {color: black;}#sk-container-id-3 div.sk-toggleable__content {max-height: 0;max-width: 0;overflow: hidden;text-align: left;background-color: #f0f8ff;}#sk-container-id-3 div.sk-toggleable__content pre {margin: 0.2em;color: black;border-radius: 0.25em;background-color: #f0f8ff;}#sk-container-id-3 input.sk-toggleable__control:checked~div.sk-toggleable__content {max-height: 200px;max-width: 100%;overflow: auto;}#sk-container-id-3 input.sk-toggleable__control:checked~label.sk-toggleable__label-arrow:before {content: \"▾\";}#sk-container-id-3 div.sk-estimator input.sk-toggleable__control:checked~label.sk-toggleable__label {background-color: #d4ebff;}#sk-container-id-3 div.sk-label input.sk-toggleable__control:checked~label.sk-toggleable__label {background-color: #d4ebff;}#sk-container-id-3 input.sk-hidden--visually {border: 0;clip: rect(1px 1px 1px 1px);clip: rect(1px, 1px, 1px, 1px);height: 1px;margin: -1px;overflow: hidden;padding: 0;position: absolute;width: 1px;}#sk-container-id-3 div.sk-estimator {font-family: monospace;background-color: #f0f8ff;border: 1px dotted black;border-radius: 0.25em;box-sizing: border-box;margin-bottom: 0.5em;}#sk-container-id-3 div.sk-estimator:hover {background-color: #d4ebff;}#sk-container-id-3 div.sk-parallel-item::after {content: \"\";width: 100%;border-bottom: 1px solid gray;flex-grow: 1;}#sk-container-id-3 div.sk-label:hover label.sk-toggleable__label {background-color: #d4ebff;}#sk-container-id-3 div.sk-serial::before {content: \"\";position: absolute;border-left: 1px solid gray;box-sizing: border-box;top: 0;bottom: 0;left: 50%;z-index: 0;}#sk-container-id-3 div.sk-serial {display: flex;flex-direction: column;align-items: center;background-color: white;padding-right: 0.2em;padding-left: 0.2em;position: relative;}#sk-container-id-3 div.sk-item {position: relative;z-index: 1;}#sk-container-id-3 div.sk-parallel {display: flex;align-items: stretch;justify-content: center;background-color: white;position: relative;}#sk-container-id-3 div.sk-item::before, #sk-container-id-3 div.sk-parallel-item::before {content: \"\";position: absolute;border-left: 1px solid gray;box-sizing: border-box;top: 0;bottom: 0;left: 50%;z-index: -1;}#sk-container-id-3 div.sk-parallel-item {display: flex;flex-direction: column;z-index: 1;position: relative;background-color: white;}#sk-container-id-3 div.sk-parallel-item:first-child::after {align-self: flex-end;width: 50%;}#sk-container-id-3 div.sk-parallel-item:last-child::after {align-self: flex-start;width: 50%;}#sk-container-id-3 div.sk-parallel-item:only-child::after {width: 0;}#sk-container-id-3 div.sk-dashed-wrapped {border: 1px dashed gray;margin: 0 0.4em 0.5em 0.4em;box-sizing: border-box;padding-bottom: 0.4em;background-color: white;}#sk-container-id-3 div.sk-label label {font-family: monospace;font-weight: bold;display: inline-block;line-height: 1.2em;}#sk-container-id-3 div.sk-label-container {text-align: center;}#sk-container-id-3 div.sk-container {/* jupyter's `normalize.less` sets `[hidden] { display: none; }` but bootstrap.min.css set `[hidden] { display: none !important; }` so we also need the `!important` here to be able to override the default hidden behavior on the sphinx rendered scikit-learn.org. See: https://github.com/scikit-learn/scikit-learn/issues/21755 */display: inline-block !important;position: relative;}#sk-container-id-3 div.sk-text-repr-fallback {display: none;}</style><div id=\"sk-container-id-3\" class=\"sk-top-container\"><div class=\"sk-text-repr-fallback\"><pre>LinearRegression()</pre><b>In a Jupyter environment, please rerun this cell to show the HTML representation or trust the notebook. <br />On GitHub, the HTML representation is unable to render, please try loading this page with nbviewer.org.</b></div><div class=\"sk-container\" hidden><div class=\"sk-item\"><div class=\"sk-estimator sk-toggleable\"><input class=\"sk-toggleable__control sk-hidden--visually\" id=\"sk-estimator-id-3\" type=\"checkbox\" checked><label for=\"sk-estimator-id-3\" class=\"sk-toggleable__label sk-toggleable__label-arrow\">LinearRegression</label><div class=\"sk-toggleable__content\"><pre>LinearRegression()</pre></div></div></div></div></div>"
            ]
          },
          "metadata": {},
          "execution_count": 36
        }
      ]
    },
    {
      "cell_type": "code",
      "source": [
        "y_train_predict = linear_reg.predict(X_train)\n",
        "print(f\"y_train_predict: {y_train_predict}\")\n",
        "\n",
        "y_valid_predict = linear_reg.predict(X_valid)\n",
        "print(f\"y_valid_predict:  {y_valid_predict}\")"
      ],
      "metadata": {
        "colab": {
          "base_uri": "https://localhost:8080/"
        },
        "id": "N0WascrXqEJM",
        "outputId": "3db6eaf1-6821-496c-d8bc-62119002271b"
      },
      "execution_count": 37,
      "outputs": [
        {
          "output_type": "stream",
          "name": "stdout",
          "text": [
            "y_train_predict: [5.95568658 6.16268592 6.0462479  ... 6.3518388  5.86173394 6.13939255]\n",
            "y_valid_predict:  [5.89589845 5.83006925 5.51847212 ... 6.45654488 6.36247057 5.9961741 ]\n"
          ]
        }
      ]
    },
    {
      "cell_type": "markdown",
      "source": [
        "### ***Функиция для рассёта RMSLE***"
      ],
      "metadata": {
        "id": "xImWlAh54PaT"
      }
    },
    {
      "cell_type": "code",
      "source": [
        "# функиция для рассёта RMSLE\n",
        "def calculate_rmsle(y_true, y_pred):\n",
        "    return round(metrics.mean_squared_error(y_true, y_pred, squared=False), 2)\n"
      ],
      "metadata": {
        "id": "csI1XoKWzQZu"
      },
      "execution_count": 38,
      "outputs": []
    },
    {
      "cell_type": "code",
      "source": [
        "# в другой ячейки, так как функцию будем вызывать ещё\n",
        "print(\"RMSLE train:\", calculate_rmsle(y_train_log, y_train_predict))\n",
        "print(\"RMSLE valid:\", calculate_rmsle(y_valid_log, y_valid_predict))\n"
      ],
      "metadata": {
        "colab": {
          "base_uri": "https://localhost:8080/"
        },
        "id": "-CyQtM8T0Uyx",
        "outputId": "c434cf37-e652-4241-c935-4d0d03662faf"
      },
      "execution_count": 39,
      "outputs": [
        {
          "output_type": "stream",
          "name": "stdout",
          "text": [
            "RMSLE train: 0.54\n",
            "RMSLE valid: 0.54\n"
          ]
        }
      ]
    },
    {
      "cell_type": "markdown",
      "source": [
        "# **5.2**"
      ],
      "metadata": {
        "id": "shBnSFKt0edB"
      }
    },
    {
      "cell_type": "code",
      "source": [
        "poly_features = preprocessing.PolynomialFeatures(degree=2, include_bias=False)\n",
        "\n",
        "X_train_poly = poly_features.fit_transform(X_train)\n",
        "X_valid_poly = poly_features.fit_transform(X_valid)\n",
        "\n",
        "linear_reg_poly = linear_model.LinearRegression()\n",
        "linear_reg_poly.fit(X_train_poly, y_train_log)"
      ],
      "metadata": {
        "colab": {
          "base_uri": "https://localhost:8080/",
          "height": 74
        },
        "id": "rfAj16_i0btV",
        "outputId": "e073cf78-5279-4429-cb72-81a73f0ccb9b"
      },
      "execution_count": 40,
      "outputs": [
        {
          "output_type": "execute_result",
          "data": {
            "text/plain": [
              "LinearRegression()"
            ],
            "text/html": [
              "<style>#sk-container-id-4 {color: black;background-color: white;}#sk-container-id-4 pre{padding: 0;}#sk-container-id-4 div.sk-toggleable {background-color: white;}#sk-container-id-4 label.sk-toggleable__label {cursor: pointer;display: block;width: 100%;margin-bottom: 0;padding: 0.3em;box-sizing: border-box;text-align: center;}#sk-container-id-4 label.sk-toggleable__label-arrow:before {content: \"▸\";float: left;margin-right: 0.25em;color: #696969;}#sk-container-id-4 label.sk-toggleable__label-arrow:hover:before {color: black;}#sk-container-id-4 div.sk-estimator:hover label.sk-toggleable__label-arrow:before {color: black;}#sk-container-id-4 div.sk-toggleable__content {max-height: 0;max-width: 0;overflow: hidden;text-align: left;background-color: #f0f8ff;}#sk-container-id-4 div.sk-toggleable__content pre {margin: 0.2em;color: black;border-radius: 0.25em;background-color: #f0f8ff;}#sk-container-id-4 input.sk-toggleable__control:checked~div.sk-toggleable__content {max-height: 200px;max-width: 100%;overflow: auto;}#sk-container-id-4 input.sk-toggleable__control:checked~label.sk-toggleable__label-arrow:before {content: \"▾\";}#sk-container-id-4 div.sk-estimator input.sk-toggleable__control:checked~label.sk-toggleable__label {background-color: #d4ebff;}#sk-container-id-4 div.sk-label input.sk-toggleable__control:checked~label.sk-toggleable__label {background-color: #d4ebff;}#sk-container-id-4 input.sk-hidden--visually {border: 0;clip: rect(1px 1px 1px 1px);clip: rect(1px, 1px, 1px, 1px);height: 1px;margin: -1px;overflow: hidden;padding: 0;position: absolute;width: 1px;}#sk-container-id-4 div.sk-estimator {font-family: monospace;background-color: #f0f8ff;border: 1px dotted black;border-radius: 0.25em;box-sizing: border-box;margin-bottom: 0.5em;}#sk-container-id-4 div.sk-estimator:hover {background-color: #d4ebff;}#sk-container-id-4 div.sk-parallel-item::after {content: \"\";width: 100%;border-bottom: 1px solid gray;flex-grow: 1;}#sk-container-id-4 div.sk-label:hover label.sk-toggleable__label {background-color: #d4ebff;}#sk-container-id-4 div.sk-serial::before {content: \"\";position: absolute;border-left: 1px solid gray;box-sizing: border-box;top: 0;bottom: 0;left: 50%;z-index: 0;}#sk-container-id-4 div.sk-serial {display: flex;flex-direction: column;align-items: center;background-color: white;padding-right: 0.2em;padding-left: 0.2em;position: relative;}#sk-container-id-4 div.sk-item {position: relative;z-index: 1;}#sk-container-id-4 div.sk-parallel {display: flex;align-items: stretch;justify-content: center;background-color: white;position: relative;}#sk-container-id-4 div.sk-item::before, #sk-container-id-4 div.sk-parallel-item::before {content: \"\";position: absolute;border-left: 1px solid gray;box-sizing: border-box;top: 0;bottom: 0;left: 50%;z-index: -1;}#sk-container-id-4 div.sk-parallel-item {display: flex;flex-direction: column;z-index: 1;position: relative;background-color: white;}#sk-container-id-4 div.sk-parallel-item:first-child::after {align-self: flex-end;width: 50%;}#sk-container-id-4 div.sk-parallel-item:last-child::after {align-self: flex-start;width: 50%;}#sk-container-id-4 div.sk-parallel-item:only-child::after {width: 0;}#sk-container-id-4 div.sk-dashed-wrapped {border: 1px dashed gray;margin: 0 0.4em 0.5em 0.4em;box-sizing: border-box;padding-bottom: 0.4em;background-color: white;}#sk-container-id-4 div.sk-label label {font-family: monospace;font-weight: bold;display: inline-block;line-height: 1.2em;}#sk-container-id-4 div.sk-label-container {text-align: center;}#sk-container-id-4 div.sk-container {/* jupyter's `normalize.less` sets `[hidden] { display: none; }` but bootstrap.min.css set `[hidden] { display: none !important; }` so we also need the `!important` here to be able to override the default hidden behavior on the sphinx rendered scikit-learn.org. See: https://github.com/scikit-learn/scikit-learn/issues/21755 */display: inline-block !important;position: relative;}#sk-container-id-4 div.sk-text-repr-fallback {display: none;}</style><div id=\"sk-container-id-4\" class=\"sk-top-container\"><div class=\"sk-text-repr-fallback\"><pre>LinearRegression()</pre><b>In a Jupyter environment, please rerun this cell to show the HTML representation or trust the notebook. <br />On GitHub, the HTML representation is unable to render, please try loading this page with nbviewer.org.</b></div><div class=\"sk-container\" hidden><div class=\"sk-item\"><div class=\"sk-estimator sk-toggleable\"><input class=\"sk-toggleable__control sk-hidden--visually\" id=\"sk-estimator-id-4\" type=\"checkbox\" checked><label for=\"sk-estimator-id-4\" class=\"sk-toggleable__label sk-toggleable__label-arrow\">LinearRegression</label><div class=\"sk-toggleable__content\"><pre>LinearRegression()</pre></div></div></div></div></div>"
            ]
          },
          "metadata": {},
          "execution_count": 40
        }
      ]
    },
    {
      "cell_type": "code",
      "source": [
        "y_train_poly_predict = linear_reg_poly.predict(X_train_poly)\n",
        "print(f\"y_train_poly_predict: {y_train_poly_predict}\")\n",
        "\n",
        "y_valid_poly_predict = linear_reg_poly.predict(X_valid_poly)\n",
        "print(f\"y_valid_poly_predict: {y_valid_poly_predict}\")\n"
      ],
      "metadata": {
        "colab": {
          "base_uri": "https://localhost:8080/"
        },
        "id": "L-o03hQE1UjU",
        "outputId": "8ae25f48-f6b7-4e6c-81c1-b04a3bc65488"
      },
      "execution_count": 41,
      "outputs": [
        {
          "output_type": "stream",
          "name": "stdout",
          "text": [
            "y_train_poly_predict: [5.71374486 6.16332982 6.09527562 ... 6.02062962 5.77386738 6.28747533]\n",
            "y_valid_poly_predict: [5.80688451 5.35388158 4.69726536 ... 6.21855481 6.60430192 6.1030576 ]\n"
          ]
        }
      ]
    },
    {
      "cell_type": "code",
      "source": [
        "print(\"RMSLE train_poly:\", calculate_rmsle(y_train_log, y_train_poly_predict))\n",
        "print(\"RMSLE train:\", calculate_rmsle(y_valid_log, y_valid_poly_predict))\n"
      ],
      "metadata": {
        "colab": {
          "base_uri": "https://localhost:8080/"
        },
        "id": "wjYqQddL1h9d",
        "outputId": "b04fc829-3710-4de0-9518-704da5b8769d"
      },
      "execution_count": 42,
      "outputs": [
        {
          "output_type": "stream",
          "name": "stdout",
          "text": [
            "RMSLE train_poly: 0.47\n",
            "RMSLE train: 0.7\n"
          ]
        }
      ]
    },
    {
      "cell_type": "markdown",
      "source": [
        "# **Задание 5.3.**"
      ],
      "metadata": {
        "id": "K_-UZuW72jO6"
      }
    },
    {
      "cell_type": "code",
      "source": [
        "ridge = linear_model.Ridge(alpha=1)\n",
        "ridge.fit(X_train_poly, y_train_log)\n",
        "\n",
        "y_train_ridge_predict = ridge.predict(X_train_poly)\n",
        "print(f\"y_train_ridge_predict: {y_train_ridge_predict}\")\n",
        "\n",
        "y_valid_ridge_predict = ridge.predict(X_valid_poly)\n",
        "print(f\"y_valid_ridge_predict: {y_valid_ridge_predict}\")\n"
      ],
      "metadata": {
        "colab": {
          "base_uri": "https://localhost:8080/"
        },
        "id": "smwDg1RO2kN7",
        "outputId": "d9edd68e-1716-4471-88f4-98c8ef5b9a91"
      },
      "execution_count": 43,
      "outputs": [
        {
          "output_type": "stream",
          "name": "stdout",
          "text": [
            "y_train_ridge_predict: [5.71825642 6.22552776 6.11983477 ... 6.1526633  5.7245661  6.23726213]\n",
            "y_valid_ridge_predict: [5.80850355 5.40719628 4.79239444 ... 6.21681268 6.53716055 6.07281515]\n"
          ]
        }
      ]
    },
    {
      "cell_type": "code",
      "source": [
        "print(\"RMSLE train_ridge:\", calculate_rmsle(y_train_log, y_train_ridge_predict))\n",
        "print(\"RMSLE valid_ridge:\", calculate_rmsle(y_valid_log, y_valid_ridge_predict))\n"
      ],
      "metadata": {
        "colab": {
          "base_uri": "https://localhost:8080/"
        },
        "id": "L9X2pQ732ur9",
        "outputId": "dfa51de6-38c1-43a3-86c4-bb6cbb6ec53a"
      },
      "execution_count": 44,
      "outputs": [
        {
          "output_type": "stream",
          "name": "stdout",
          "text": [
            "RMSLE train_ridge: 0.48\n",
            "RMSLE valid_ridge: 0.48\n"
          ]
        }
      ]
    },
    {
      "cell_type": "markdown",
      "source": [
        "# **Задание 5.4**"
      ],
      "metadata": {
        "id": "wGsgXh3r43Qu"
      }
    },
    {
      "cell_type": "code",
      "source": [
        "detrreg = tree.DecisionTreeRegressor()\n",
        "detrreg.fit(X_train, y_train_log)\n",
        "\n",
        "y_train_detrreg_predict = detrreg.predict(X_train)\n",
        "print(f\"y_train_detrreg_predict: {y_train_detrreg_predict}\")\n",
        "y_valid_detrreg_predict = detrreg.predict(X_valid)\n",
        "print(f\"y_valid_ridge_predict: {y_valid_detrreg_predict}\")\n",
        "\n",
        "print()\n",
        "print(\"RMSLE train_detrreg:\", calculate_rmsle(y_train_log, y_train_detrreg_predict))\n",
        "print(\"RMSLE valid_detrreg:\", calculate_rmsle(y_valid_log, y_valid_detrreg_predict))\n"
      ],
      "metadata": {
        "colab": {
          "base_uri": "https://localhost:8080/"
        },
        "id": "yOjP6MWZ428h",
        "outputId": "23f12490-a6bf-41cd-983d-74ce0d1c24af"
      },
      "execution_count": 45,
      "outputs": [
        {
          "output_type": "stream",
          "name": "stdout",
          "text": [
            "y_train_detrreg_predict: [6.2441669  6.03308622 5.56068163 ... 5.97635091 5.12989871 6.3851944 ]\n",
            "y_valid_ridge_predict: [5.91889385 5.6167711  5.92157842 ... 6.31716469 7.01929665 6.76041469]\n",
            "RMSLE train_detrreg: 0.0\n",
            "RMSLE valid_detrreg: 0.57\n"
          ]
        }
      ]
    },
    {
      "cell_type": "markdown",
      "source": [
        "# **Задание 5.5**"
      ],
      "metadata": {
        "id": "Wm55FGVJ7Slw"
      }
    },
    {
      "cell_type": "code",
      "source": [
        "def calculate_rmsle_lists(max_depths,\n",
        "                          X_train, y_train_log, X_valid, y_valid_log, \n",
        "                          y_train_detrreg_predict, y_valid_detrreg_predict):\n",
        "  \n",
        "    rmsle_train_list = []\n",
        "    rmsle_valid_list = []\n",
        "\n",
        "    for max_depth in max_depths:\n",
        "      detrreg = tree.DecisionTreeRegressor(max_depth=max_depth)\n",
        "      detrreg.fit(X_train, y_train_log)\n",
        "\n",
        "      y_train_detrreg_predict = detrreg.predict(X_train)\n",
        "      y_valid_detrreg_predict = detrreg.predict(X_valid)\n",
        "\n",
        "      rmsle_detrreg_train = metrics.mean_squared_error(\n",
        "          y_train_log,\n",
        "          y_train_detrreg_predict,\n",
        "          squared=False\n",
        "      )\n",
        "\n",
        "      rmsle_detrreg_valid = metrics.mean_squared_error(\n",
        "          y_valid_log,\n",
        "          y_valid_detrreg_predict,\n",
        "          squared=False\n",
        "      )\n",
        "\n",
        "      rmsle_train_list.append(rmsle_detrreg_train)\n",
        "      rmsle_valid_list.append(rmsle_detrreg_valid)\n",
        "\n",
        "    return rmsle_train_list, rmsle_valid_list"
      ],
      "metadata": {
        "id": "KI61EwGS885_"
      },
      "execution_count": 58,
      "outputs": []
    },
    {
      "cell_type": "code",
      "source": [
        "max_depths = range(7, 20)\n",
        "\n",
        "rmsle_train_list, rmsle_valid_list = calculate_rmsle_lists(\n",
        "    max_depths,\n",
        "    X_train, y_train_log, X_valid, y_valid_log,\n",
        "    y_train_detrreg_predict, y_valid_detrreg_predict\n",
        "    )\n"
      ],
      "metadata": {
        "id": "qpDlQ5Z79Mpu"
      },
      "execution_count": 59,
      "outputs": []
    },
    {
      "cell_type": "code",
      "source": [
        "print(rmsle_train_list[0:5])\n",
        "print(rmsle_valid_list[0:5])"
      ],
      "metadata": {
        "colab": {
          "base_uri": "https://localhost:8080/"
        },
        "id": "qRKcjQot-iD3",
        "outputId": "1ca0da35-7f1d-4e5e-c40d-e2eee94e6b3b"
      },
      "execution_count": 73,
      "outputs": [
        {
          "output_type": "stream",
          "name": "stdout",
          "text": [
            "[0.44482226301161487, 0.43700130201443466, 0.4299042241204146, 0.422413531725487, 0.41457242069973166]\n",
            "[0.4471739545494092, 0.44078044168485103, 0.4356631818042404, 0.43174826589244747, 0.43093971043896007]\n"
          ]
        }
      ]
    },
    {
      "cell_type": "code",
      "source": [
        "fig, ax = plt.subplots(figsize=(10, 10))\n",
        "ax.set_xlabel(\"Tree depth\")\n",
        "ax.set_ylabel(\"RMSLE\")\n",
        "ax.grid()\n",
        "\n",
        "plt.plot(max_depths, rmsle_valid_list, label=\"Valid\")\n",
        "plt.plot(max_depths, rmsle_train_list, label=\"Train\")\n",
        "\n",
        "\n",
        "plt.legend()\n",
        "plt.show()\n"
      ],
      "metadata": {
        "colab": {
          "base_uri": "https://localhost:8080/",
          "height": 850
        },
        "id": "D5SqodYQA4Zo",
        "outputId": "a1abd621-892b-45b1-b9e2-6116ea2b044c"
      },
      "execution_count": 67,
      "outputs": [
        {
          "output_type": "display_data",
          "data": {
            "text/plain": [
              "<Figure size 1000x1000 with 1 Axes>"
            ],
            "image/png": "[encoded data removed]"
          },
          "metadata": {}
        }
      ]
    },
    {
      "cell_type": "markdown",
      "source": [
        "Обучаем на оптимальной глубене в **12** "
      ],
      "metadata": {
        "id": "eG0rhOunCxIq"
      }
    },
    {
      "cell_type": "code",
      "source": [
        "detrreg = tree.DecisionTreeRegressor(max_depth=12)\n",
        "detrreg.fit(X_train, y_train_log)\n",
        "\n",
        "y_train_detrreg_predict = detrreg.predict(X_train)\n",
        "y_valid_detrreg_predict = detrreg.predict(X_valid)\n",
        "\n",
        "print(\"RMSLE train_detrreg:\", calculate_rmsle(y_train_log, y_train_detrreg_predict))\n",
        "print(\"RMSLE valid_detrreg:\", calculate_rmsle(y_valid_log, y_valid_detrreg_predict))"
      ],
      "metadata": {
        "colab": {
          "base_uri": "https://localhost:8080/"
        },
        "id": "9LGUHubTCxfB",
        "outputId": "3c7789ed-2735-41f3-889e-5b528f2c3bb3"
      },
      "execution_count": 70,
      "outputs": [
        {
          "output_type": "stream",
          "name": "stdout",
          "text": [
            "RMSLE train_detrreg: 0.41\n",
            "RMSLE valid_detrreg: 0.43\n"
          ]
        }
      ]
    },
    {
      "cell_type": "markdown",
      "source": [
        "# ***6 раздел***"
      ],
      "metadata": {
        "id": "m3RMBSNdI0eU"
      }
    },
    {
      "cell_type": "markdown",
      "source": [
        "# **Задание 6.1.**"
      ],
      "metadata": {
        "id": "lY6ieb2DXq9C"
      }
    },
    {
      "cell_type": "code",
      "source": [
        "RF_reg = ensemble.RandomForestRegressor(\n",
        "    n_estimators=200,\n",
        "    max_depth=12,\n",
        "    criterion='squared_error',\n",
        "    min_samples_split=20,\n",
        "    random_state=42,\n",
        "    verbose=True,\n",
        ")\n",
        "RF_reg.fit(X_train, y_train_log)\n",
        "\n",
        "\n",
        "y_train_RF_reg_predict = RF_reg.predict(X_train)\n",
        "y_valid_RF_reg_predict = RF_reg.predict(X_valid)\n",
        "\n",
        "\n",
        "print(\"RMSLE train_detrreg:\", calculate_rmsle(y_train_log, y_train_RF_reg_predict))\n",
        "print(\"RMSLE valid_detrreg:\", calculate_rmsle(y_valid_log, y_valid_RF_reg_predict))"
      ],
      "metadata": {
        "colab": {
          "base_uri": "https://localhost:8080/"
        },
        "id": "jXa4eO-5Je2z",
        "outputId": "9b0b0d4d-a805-4971-fece-9d323998d847"
      },
      "execution_count": 87,
      "outputs": [
        {
          "output_type": "stream",
          "name": "stderr",
          "text": [
            "[Parallel(n_jobs=1)]: Using backend SequentialBackend with 1 concurrent workers.\n",
            "[Parallel(n_jobs=1)]: Done 200 out of 200 | elapsed: 35.1min finished\n",
            "[Parallel(n_jobs=1)]: Using backend SequentialBackend with 1 concurrent workers.\n",
            "[Parallel(n_jobs=1)]: Done 200 out of 200 | elapsed:   26.6s finished\n",
            "[Parallel(n_jobs=1)]: Using backend SequentialBackend with 1 concurrent workers.\n"
          ]
        },
        {
          "output_type": "stream",
          "name": "stdout",
          "text": [
            "RMSLE train_detrreg: 0.4\n",
            "RMSLE valid_detrreg: 0.41\n"
          ]
        },
        {
          "output_type": "stream",
          "name": "stderr",
          "text": [
            "[Parallel(n_jobs=1)]: Done 200 out of 200 | elapsed:   13.7s finished\n"
          ]
        }
      ]
    },
    {
      "cell_type": "markdown",
      "source": [
        "# **ЗАДАНИЕ 6.2**"
      ],
      "metadata": {
        "id": "MhdmuZd1X6dV"
      }
    },
    {
      "cell_type": "code",
      "source": [
        "gradbost = ensemble.GradientBoostingRegressor(\n",
        "    learning_rate=0.5,\n",
        "    n_estimators=100,\n",
        "    max_depth=6,\n",
        "    min_samples_split=30,\n",
        "    random_state=42,\n",
        "    verbose=True,\n",
        ")\n",
        "gradbost.fit(X_train, y_train_log)\n",
        "\n",
        "\n",
        "y_train_gradbost_predict = gradbost.predict(X_train)\n",
        "y_valid_gradbost_predict = gradbost.predict(X_valid)\n",
        "\n",
        "\n",
        "print(\"RMSLE train_gradbost:\", calculate_rmsle(y_train_log, y_train_gradbost_predict))\n",
        "print(\"RMSLE valid_gradbost:\", calculate_rmsle(y_valid_log, y_valid_gradbost_predict))"
      ],
      "metadata": {
        "colab": {
          "base_uri": "https://localhost:8080/"
        },
        "id": "O4pbLmllX8v9",
        "outputId": "04a1d9e8-5d10-4bbc-dfbd-a3cc2f38263f"
      },
      "execution_count": 88,
      "outputs": [
        {
          "output_type": "stream",
          "name": "stdout",
          "text": [
            "      Iter       Train Loss   Remaining Time \n",
            "         1           0.3110           15.27m\n",
            "         2           0.2247           14.65m\n",
            "         3           0.1987           14.63m\n",
            "         4           0.1876           14.55m\n",
            "         5           0.1823           14.45m\n",
            "         6           0.1783           14.35m\n",
            "         7           0.1756           14.22m\n",
            "         8           0.1730           14.21m\n",
            "         9           0.1709           14.57m\n",
            "        10           0.1696           14.26m\n",
            "        20           0.1577           12.45m\n",
            "        30           0.1538           10.70m\n",
            "        40           0.1502            9.09m\n",
            "        50           0.1480            7.56m\n",
            "        60           0.1451            6.02m\n",
            "        70           0.1431            4.49m\n",
            "        80           0.1410            2.99m\n",
            "        90           0.1393            1.49m\n",
            "       100           0.1383            0.00s\n",
            "RMSLE train_gradbost: 0.37\n",
            "RMSLE valid_gradbost: 0.39\n"
          ]
        }
      ]
    },
    {
      "cell_type": "markdown",
      "source": [
        "# Задание 6.3.\n",
        "\n",
        "без задания))"
      ],
      "metadata": {
        "id": "hFrnlWNYcXHX"
      }
    },
    {
      "cell_type": "markdown",
      "source": [
        "# **Задание 6.4**"
      ],
      "metadata": {
        "id": "v4xpbuy5dBBU"
      }
    },
    {
      "cell_type": "code",
      "source": [
        "plt.figure(figsize=(12, 10))\n",
        "\n",
        "plt.xlabel(\"feature_importances_\")\n",
        "plt.ylabel(\"feature_names_in_\")\n",
        "\n",
        "plt.barh(\n",
        "    gradbost.feature_names_in_,\n",
        "    gradbost.feature_importances_\n",
        ")\n",
        "plt.show()\n"
      ],
      "metadata": {
        "colab": {
          "base_uri": "https://localhost:8080/",
          "height": 833
        },
        "id": "UChb8jSmdQ9R",
        "outputId": "d6382be9-f59c-464b-cda3-baf8351d5ab9"
      },
      "execution_count": 95,
      "outputs": [
        {
          "output_type": "display_data",
          "data": {
            "text/plain": [
              "<Figure size 1200x1000 with 1 Axes>"
            ],
            "image/png": "[encoded data removed]"
          },
          "metadata": {}
        }
      ]
    },
    {
      "cell_type": "markdown",
      "source": [
        "total_distance, total_travel_time, pickup_hour"
      ],
      "metadata": {
        "id": "8OHUmvdOemJd"
      }
    },
    {
      "cell_type": "markdown",
      "source": [
        "# ***ЗАДАНИЕ 6.5***"
      ],
      "metadata": {
        "id": "ezzFupHTfTVM"
      }
    },
    {
      "cell_type": "markdown",
      "source": [
        "# **MeAE**"
      ],
      "metadata": {
        "id": "Ae35yee-f3fF"
      }
    },
    {
      "cell_type": "code",
      "source": [
        "y_true = np.exp(y_train_log) - 1\n",
        "y_pred = np.exp(y_train_gradbost_predict) - 1\n",
        "\n",
        "MeAE = round(metrics.median_absolute_error(y_true, y_pred) / 60, 1)\n",
        "print(f\"MeAE в минутах: {MeAE}\")"
      ],
      "metadata": {
        "colab": {
          "base_uri": "https://localhost:8080/"
        },
        "id": "t97UBflOf7qI",
        "outputId": "21c4b6e6-d440-433d-f29d-65c04f2167d4"
      },
      "execution_count": 132,
      "outputs": [
        {
          "output_type": "stream",
          "name": "stdout",
          "text": [
            "MeAE в минутах: 1.8\n"
          ]
        }
      ]
    },
    {
      "cell_type": "markdown",
      "source": [
        "# **ДАЛЕЕ**"
      ],
      "metadata": {
        "id": "svx5Nz-7f6D6"
      }
    },
    {
      "cell_type": "code",
      "source": [
        "test_data = load_result('final/Project5_test_data')\n",
        "osrm_data_test = load_result('final/Project5_osrm_data_test')\n",
        "\n",
        "\n",
        "test_id = test_data['id']"
      ],
      "metadata": {
        "id": "382r3RNYfW-3"
      },
      "execution_count": 105,
      "outputs": []
    },
    {
      "cell_type": "markdown",
      "source": [
        "# **!ЗАГРУЖАЮ ФУНКЦИИ И ПЕРЕМЕННЫЕ ИЗ ОСНОВНОГО КОЛЛАБА В РАЗНОБОЙ! **"
      ],
      "metadata": {
        "id": "BLOmpmakhSoz"
      }
    },
    {
      "cell_type": "code",
      "source": [
        "def add_holiday_features(taxi, holidays):\n",
        "\n",
        "    # Объединение таблиц по столбцу \"pickup_date\"\n",
        "    merged_data = pd.merge(taxi, holidays, left_on='pickup_date', right_on='date', how='left')\n",
        "    \n",
        "    # Создание столбца \"pickup_holiday\" с бинарным признаком праздничного дня\n",
        "    merged_data['pickup_holiday'] = merged_data['holiday'].notnull().astype(int)\n",
        "    \n",
        "    # Удаление ненужных столбцов\n",
        "    merged_data = merged_data.drop(['date', 'holiday', 'day'], axis=1)\n",
        "    \n",
        "    return merged_data"
      ],
      "metadata": {
        "id": "PJBrxRknjXnw"
      },
      "execution_count": 110,
      "outputs": []
    },
    {
      "cell_type": "code",
      "source": [
        "holiday_data = pd.read_csv(\"drive/My Drive/holiday_data.csv\", sep=';')\n",
        "holiday_data['date'] = pd.to_datetime(holiday_data['date'])\n",
        "holiday_data['date'] = holiday_data['date'].dt.date"
      ],
      "metadata": {
        "id": "fSjcD46YjfQa"
      },
      "execution_count": 111,
      "outputs": []
    },
    {
      "cell_type": "code",
      "source": [
        "columns_to_change = [\"pickup_day_of_week\", \"geo_cluster\", \"events\"]"
      ],
      "metadata": {
        "id": "wlgh-5OBjMW-"
      },
      "execution_count": 108,
      "outputs": []
    },
    {
      "cell_type": "code",
      "source": [
        "def add_osrm_features(left_table, right_table, list_col):\n",
        "  # тут новые имена таблиц, в отличии от предыдуущий функции\n",
        "  # так как из-за старых имён я долго не мог понять проблему\n",
        "\n",
        "  # Выделение столбцов из right_table\n",
        "  right_table_subset = right_table[list_col]\n",
        "\n",
        "  # Объединение left_table и right_table_subset по столбцу \"id\" с типом объединения \"left\"\n",
        "  merged_data = pd.merge(left_table, right_table_subset, on='id', how='left')\n",
        "\n",
        "  return merged_data\n",
        "\n",
        "# лист с нужными нам столбцами, и id, по которыму будем мёржить\n",
        "selected_columns = ['id', 'total_distance', 'total_travel_time', 'number_of_steps']"
      ],
      "metadata": {
        "id": "q13UoQU1jk9N"
      },
      "execution_count": 112,
      "outputs": []
    },
    {
      "cell_type": "code",
      "source": [
        "def add_geographical_features(df):\n",
        "    pickup_lat = df[\"pickup_latitude\"]\n",
        "    pickup_lon = df[\"pickup_longitude\"]\n",
        "    dropoff_lat = df[\"dropoff_latitude\"]\n",
        "    dropoff_lon = df[\"dropoff_longitude\"]\n",
        "    \n",
        "    df[\"haversine_distance\"] = get_haversine_distance(pickup_lat, pickup_lon, dropoff_lat, dropoff_lon)\n",
        "    df[\"direction\"] = get_angle_direction(pickup_lat, pickup_lon, dropoff_lat, dropoff_lon)\n",
        "    \n",
        "    return df"
      ],
      "metadata": {
        "id": "JqnUAbb9jph6"
      },
      "execution_count": 113,
      "outputs": []
    },
    {
      "cell_type": "code",
      "source": [
        "def get_haversine_distance(lat1, lng1, lat2, lng2):\n",
        "    # переводим углы в радианы\n",
        "    lat1, lng1, lat2, lng2 = map(np.radians, (lat1, lng1, lat2, lng2))\n",
        "    # радиус земли в километрах\n",
        "    EARTH_RADIUS = 6371 \n",
        "    # считаем кратчайшее расстояние h по формуле Хаверсина\n",
        "    lat_delta = lat2 - lat1\n",
        "    lng_delta = lng2 - lng1\n",
        "    d = np.sin(lat_delta * 0.5) ** 2 + np.cos(lat1) * np.cos(lat2) * np.sin(lng_delta * 0.5) ** 2\n",
        "    h = 2 * EARTH_RADIUS * np.arcsin(np.sqrt(d))\n",
        "    return h\n",
        "\n",
        "def get_angle_direction(lat1, lng1, lat2, lng2):\n",
        "    # переводим углы в радианы\n",
        "    lat1, lng1, lat2, lng2 = map(np.radians, (lat1, lng1, lat2, lng2))\n",
        "    # считаем угол направления движения alpha по формуле угла пеленга\n",
        "    lng_delta_rad = lng2 - lng1\n",
        "    y = np.sin(lng_delta_rad) * np.cos(lat2)\n",
        "    x = np.cos(lat1) * np.sin(lat2) - np.sin(lat1) * np.cos(lat2) * np.cos(lng_delta_rad)\n",
        "    alpha = np.degrees(np.arctan2(y, x))\n",
        "    return alpha"
      ],
      "metadata": {
        "id": "SSmcPQrEkFAx"
      },
      "execution_count": 116,
      "outputs": []
    },
    {
      "cell_type": "code",
      "source": [
        "# создаем обучающую выборку из географических координат всех точек\n",
        "coords = np.hstack((test_data[['pickup_latitude', 'pickup_longitude']],\n",
        "                    test_data[['dropoff_latitude', 'dropoff_longitude']]))\n",
        "# обучаем алгоритм кластеризации\n",
        "kmeans = cluster.KMeans(n_clusters=10, random_state=42)\n",
        "kmeans.fit(coords)"
      ],
      "metadata": {
        "colab": {
          "base_uri": "https://localhost:8080/",
          "height": 131
        },
        "id": "jRXBPGk-j5NK",
        "outputId": "dc88146d-88ca-4939-87f8-be9633e803ab"
      },
      "execution_count": 115,
      "outputs": [
        {
          "output_type": "stream",
          "name": "stderr",
          "text": [
            "/usr/local/lib/python3.10/dist-packages/sklearn/cluster/_kmeans.py:870: FutureWarning: The default value of `n_init` will change from 10 to 'auto' in 1.4. Set the value of `n_init` explicitly to suppress the warning\n",
            "  warnings.warn(\n"
          ]
        },
        {
          "output_type": "execute_result",
          "data": {
            "text/plain": [
              "KMeans(n_clusters=10, random_state=42)"
            ],
            "text/html": [
              "<style>#sk-container-id-5 {color: black;background-color: white;}#sk-container-id-5 pre{padding: 0;}#sk-container-id-5 div.sk-toggleable {background-color: white;}#sk-container-id-5 label.sk-toggleable__label {cursor: pointer;display: block;width: 100%;margin-bottom: 0;padding: 0.3em;box-sizing: border-box;text-align: center;}#sk-container-id-5 label.sk-toggleable__label-arrow:before {content: \"▸\";float: left;margin-right: 0.25em;color: #696969;}#sk-container-id-5 label.sk-toggleable__label-arrow:hover:before {color: black;}#sk-container-id-5 div.sk-estimator:hover label.sk-toggleable__label-arrow:before {color: black;}#sk-container-id-5 div.sk-toggleable__content {max-height: 0;max-width: 0;overflow: hidden;text-align: left;background-color: #f0f8ff;}#sk-container-id-5 div.sk-toggleable__content pre {margin: 0.2em;color: black;border-radius: 0.25em;background-color: #f0f8ff;}#sk-container-id-5 input.sk-toggleable__control:checked~div.sk-toggleable__content {max-height: 200px;max-width: 100%;overflow: auto;}#sk-container-id-5 input.sk-toggleable__control:checked~label.sk-toggleable__label-arrow:before {content: \"▾\";}#sk-container-id-5 div.sk-estimator input.sk-toggleable__control:checked~label.sk-toggleable__label {background-color: #d4ebff;}#sk-container-id-5 div.sk-label input.sk-toggleable__control:checked~label.sk-toggleable__label {background-color: #d4ebff;}#sk-container-id-5 input.sk-hidden--visually {border: 0;clip: rect(1px 1px 1px 1px);clip: rect(1px, 1px, 1px, 1px);height: 1px;margin: -1px;overflow: hidden;padding: 0;position: absolute;width: 1px;}#sk-container-id-5 div.sk-estimator {font-family: monospace;background-color: #f0f8ff;border: 1px dotted black;border-radius: 0.25em;box-sizing: border-box;margin-bottom: 0.5em;}#sk-container-id-5 div.sk-estimator:hover {background-color: #d4ebff;}#sk-container-id-5 div.sk-parallel-item::after {content: \"\";width: 100%;border-bottom: 1px solid gray;flex-grow: 1;}#sk-container-id-5 div.sk-label:hover label.sk-toggleable__label {background-color: #d4ebff;}#sk-container-id-5 div.sk-serial::before {content: \"\";position: absolute;border-left: 1px solid gray;box-sizing: border-box;top: 0;bottom: 0;left: 50%;z-index: 0;}#sk-container-id-5 div.sk-serial {display: flex;flex-direction: column;align-items: center;background-color: white;padding-right: 0.2em;padding-left: 0.2em;position: relative;}#sk-container-id-5 div.sk-item {position: relative;z-index: 1;}#sk-container-id-5 div.sk-parallel {display: flex;align-items: stretch;justify-content: center;background-color: white;position: relative;}#sk-container-id-5 div.sk-item::before, #sk-container-id-5 div.sk-parallel-item::before {content: \"\";position: absolute;border-left: 1px solid gray;box-sizing: border-box;top: 0;bottom: 0;left: 50%;z-index: -1;}#sk-container-id-5 div.sk-parallel-item {display: flex;flex-direction: column;z-index: 1;position: relative;background-color: white;}#sk-container-id-5 div.sk-parallel-item:first-child::after {align-self: flex-end;width: 50%;}#sk-container-id-5 div.sk-parallel-item:last-child::after {align-self: flex-start;width: 50%;}#sk-container-id-5 div.sk-parallel-item:only-child::after {width: 0;}#sk-container-id-5 div.sk-dashed-wrapped {border: 1px dashed gray;margin: 0 0.4em 0.5em 0.4em;box-sizing: border-box;padding-bottom: 0.4em;background-color: white;}#sk-container-id-5 div.sk-label label {font-family: monospace;font-weight: bold;display: inline-block;line-height: 1.2em;}#sk-container-id-5 div.sk-label-container {text-align: center;}#sk-container-id-5 div.sk-container {/* jupyter's `normalize.less` sets `[hidden] { display: none; }` but bootstrap.min.css set `[hidden] { display: none !important; }` so we also need the `!important` here to be able to override the default hidden behavior on the sphinx rendered scikit-learn.org. See: https://github.com/scikit-learn/scikit-learn/issues/21755 */display: inline-block !important;position: relative;}#sk-container-id-5 div.sk-text-repr-fallback {display: none;}</style><div id=\"sk-container-id-5\" class=\"sk-top-container\"><div class=\"sk-text-repr-fallback\"><pre>KMeans(n_clusters=10, random_state=42)</pre><b>In a Jupyter environment, please rerun this cell to show the HTML representation or trust the notebook. <br />On GitHub, the HTML representation is unable to render, please try loading this page with nbviewer.org.</b></div><div class=\"sk-container\" hidden><div class=\"sk-item\"><div class=\"sk-estimator sk-toggleable\"><input class=\"sk-toggleable__control sk-hidden--visually\" id=\"sk-estimator-id-5\" type=\"checkbox\" checked><label for=\"sk-estimator-id-5\" class=\"sk-toggleable__label sk-toggleable__label-arrow\">KMeans</label><div class=\"sk-toggleable__content\"><pre>KMeans(n_clusters=10, random_state=42)</pre></div></div></div></div></div>"
            ]
          },
          "metadata": {},
          "execution_count": 115
        }
      ]
    },
    {
      "cell_type": "code",
      "source": [
        "# требуемая функция \n",
        "def add_cluster_features(df, hstack, name_col, model):\n",
        "    coords = hstack\n",
        "    df[name_col] = model.predict(coords)\n",
        "    return df"
      ],
      "metadata": {
        "id": "XwlH1Zbzju5j"
      },
      "execution_count": 114,
      "outputs": []
    },
    {
      "cell_type": "code",
      "source": [
        "def add_weather_features(left_df, right_df, what_merg, left_col_merg, right_col_merg):\n",
        "    result = pd.merge(\n",
        "        left=left_df,\n",
        "        right=right_df[what_merg],\n",
        "        how=\"left\",\n",
        "        left_on = left_col_merg,\n",
        "        right_on = right_col_merg\n",
        "    )\n",
        "    return result"
      ],
      "metadata": {
        "id": "XjHcBzo3kOr3"
      },
      "execution_count": 118,
      "outputs": []
    },
    {
      "cell_type": "code",
      "source": [
        "# загружаем данные\n",
        "# я не использовал самописнаю функцию, так как там есть удаление столбца (позже поправил это)\n",
        "\n",
        "weather_data = pd.read_csv('drive/My Drive/weather_data.csv')\n",
        "\n",
        "weather_data[\"time\"] = pd.to_datetime(weather_data[\"time\"], format=\"%Y-%m-%d %H:%M:%S\")\n",
        "\n",
        "weather_data[\"date\"] = weather_data[\"time\"].dt.date\n",
        "weather_data[\"hour\"] = weather_data[\"time\"].dt.hour\n",
        "weather_data.head(1)"
      ],
      "metadata": {
        "colab": {
          "base_uri": "https://localhost:8080/",
          "height": 177
        },
        "id": "zhYvQL1gkK8A",
        "outputId": "6bf7cd6f-6435-45d2-fcef-fedde462f684"
      },
      "execution_count": 117,
      "outputs": [
        {
          "output_type": "execute_result",
          "data": {
            "text/plain": [
              "                 time  temperature  windchill  heat index  humidity  pressure  \\\n",
              "0 2015-12-31 02:00:00          7.8        7.1         NaN      0.89    1017.0   \n",
              "\n",
              "   dew Point  visibility wind dir  wind speed  gust speed  precip events  \\\n",
              "0        6.1         8.0      NNE         5.6         0.0     0.8   None   \n",
              "\n",
              "  conditions        date  hour  \n",
              "0   Overcast  2015-12-31     2  "
            ],
            "text/html": [
              "\n",
              "  <div id=\"df-296d2ffa-d35b-4699-92a5-3f9db4bebcdb\">\n",
              "    <div class=\"colab-df-container\">\n",
              "      <div>\n",
              "<style scoped>\n",
              "    .dataframe tbody tr th:only-of-type {\n",
              "        vertical-align: middle;\n",
              "    }\n",
              "\n",
              "    .dataframe tbody tr th {\n",
              "        vertical-align: top;\n",
              "    }\n",
              "\n",
              "    .dataframe thead th {\n",
              "        text-align: right;\n",
              "    }\n",
              "</style>\n",
              "<table border=\"1\" class=\"dataframe\">\n",
              "  <thead>\n",
              "    <tr style=\"text-align: right;\">\n",
              "      <th></th>\n",
              "      <th>time</th>\n",
              "      <th>temperature</th>\n",
              "      <th>windchill</th>\n",
              "      <th>heat index</th>\n",
              "      <th>humidity</th>\n",
              "      <th>pressure</th>\n",
              "      <th>dew Point</th>\n",
              "      <th>visibility</th>\n",
              "      <th>wind dir</th>\n",
              "      <th>wind speed</th>\n",
              "      <th>gust speed</th>\n",
              "      <th>precip</th>\n",
              "      <th>events</th>\n",
              "      <th>conditions</th>\n",
              "      <th>date</th>\n",
              "      <th>hour</th>\n",
              "    </tr>\n",
              "  </thead>\n",
              "  <tbody>\n",
              "    <tr>\n",
              "      <th>0</th>\n",
              "      <td>2015-12-31 02:00:00</td>\n",
              "      <td>7.8</td>\n",
              "      <td>7.1</td>\n",
              "      <td>NaN</td>\n",
              "      <td>0.89</td>\n",
              "      <td>1017.0</td>\n",
              "      <td>6.1</td>\n",
              "      <td>8.0</td>\n",
              "      <td>NNE</td>\n",
              "      <td>5.6</td>\n",
              "      <td>0.0</td>\n",
              "      <td>0.8</td>\n",
              "      <td>None</td>\n",
              "      <td>Overcast</td>\n",
              "      <td>2015-12-31</td>\n",
              "      <td>2</td>\n",
              "    </tr>\n",
              "  </tbody>\n",
              "</table>\n",
              "</div>\n",
              "      <button class=\"colab-df-convert\" onclick=\"convertToInteractive('df-296d2ffa-d35b-4699-92a5-3f9db4bebcdb')\"\n",
              "              title=\"Convert this dataframe to an interactive table.\"\n",
              "              style=\"display:none;\">\n",
              "        \n",
              "  <svg xmlns=\"http://www.w3.org/2000/svg\" height=\"24px\"viewBox=\"0 0 24 24\"\n",
              "       width=\"24px\">\n",
              "    <path d=\"M0 0h24v24H0V0z\" fill=\"none\"/>\n",
              "    <path d=\"M18.56 5.44l.94 2.06.94-2.06 2.06-.94-2.06-.94-.94-2.06-.94 2.06-2.06.94zm-11 1L8.5 8.5l.94-2.06 2.06-.94-2.06-.94L8.5 2.5l-.94 2.06-2.06.94zm10 10l.94 2.06.94-2.06 2.06-.94-2.06-.94-.94-2.06-.94 2.06-2.06.94z\"/><path d=\"M17.41 7.96l-1.37-1.37c-.4-.4-.92-.59-1.43-.59-.52 0-1.04.2-1.43.59L10.3 9.45l-7.72 7.72c-.78.78-.78 2.05 0 2.83L4 21.41c.39.39.9.59 1.41.59.51 0 1.02-.2 1.41-.59l7.78-7.78 2.81-2.81c.8-.78.8-2.07 0-2.86zM5.41 20L4 18.59l7.72-7.72 1.47 1.35L5.41 20z\"/>\n",
              "  </svg>\n",
              "      </button>\n",
              "      \n",
              "  <style>\n",
              "    .colab-df-container {\n",
              "      display:flex;\n",
              "      flex-wrap:wrap;\n",
              "      gap: 12px;\n",
              "    }\n",
              "\n",
              "    .colab-df-convert {\n",
              "      background-color: #E8F0FE;\n",
              "      border: none;\n",
              "      border-radius: 50%;\n",
              "      cursor: pointer;\n",
              "      display: none;\n",
              "      fill: #1967D2;\n",
              "      height: 32px;\n",
              "      padding: 0 0 0 0;\n",
              "      width: 32px;\n",
              "    }\n",
              "\n",
              "    .colab-df-convert:hover {\n",
              "      background-color: #E2EBFA;\n",
              "      box-shadow: 0px 1px 2px rgba(60, 64, 67, 0.3), 0px 1px 3px 1px rgba(60, 64, 67, 0.15);\n",
              "      fill: #174EA6;\n",
              "    }\n",
              "\n",
              "    [theme=dark] .colab-df-convert {\n",
              "      background-color: #3B4455;\n",
              "      fill: #D2E3FC;\n",
              "    }\n",
              "\n",
              "    [theme=dark] .colab-df-convert:hover {\n",
              "      background-color: #434B5C;\n",
              "      box-shadow: 0px 1px 3px 1px rgba(0, 0, 0, 0.15);\n",
              "      filter: drop-shadow(0px 1px 2px rgba(0, 0, 0, 0.3));\n",
              "      fill: #FFFFFF;\n",
              "    }\n",
              "  </style>\n",
              "\n",
              "      <script>\n",
              "        const buttonEl =\n",
              "          document.querySelector('#df-296d2ffa-d35b-4699-92a5-3f9db4bebcdb button.colab-df-convert');\n",
              "        buttonEl.style.display =\n",
              "          google.colab.kernel.accessAllowed ? 'block' : 'none';\n",
              "\n",
              "        async function convertToInteractive(key) {\n",
              "          const element = document.querySelector('#df-296d2ffa-d35b-4699-92a5-3f9db4bebcdb');\n",
              "          const dataTable =\n",
              "            await google.colab.kernel.invokeFunction('convertToInteractive',\n",
              "                                                     [key], {});\n",
              "          if (!dataTable) return;\n",
              "\n",
              "          const docLinkHtml = 'Like what you see? Visit the ' +\n",
              "            '<a target=\"_blank\" href=https://colab.research.google.com/notebooks/data_table.ipynb>data table notebook</a>'\n",
              "            + ' to learn more about interactive tables.';\n",
              "          element.innerHTML = '';\n",
              "          dataTable['output_type'] = 'display_data';\n",
              "          await google.colab.output.renderOutput(dataTable, element);\n",
              "          const docLink = document.createElement('div');\n",
              "          docLink.innerHTML = docLinkHtml;\n",
              "          element.appendChild(docLink);\n",
              "        }\n",
              "      </script>\n",
              "    </div>\n",
              "  </div>\n",
              "  "
            ]
          },
          "metadata": {},
          "execution_count": 117
        }
      ]
    },
    {
      "cell_type": "code",
      "source": [
        "# тут функцию сложно в дальнейшем применить, поэтому col зашил в функции\n",
        "def fill_null_weather_data(df):\n",
        "    columns_to_fill = [\"temperature\", \"visibility\", \"wind speed\", \"precip\"]\n",
        "\n",
        "    df[columns_to_fill] = df[columns_to_fill].fillna(df.groupby(\"pickup_date\")[columns_to_fill].transform(\"median\"))\n",
        "    df[\"events\"] = df[\"events\"].fillna(\"None\")\n",
        "    return df\n"
      ],
      "metadata": {
        "id": "RLz0ytHFkSWi"
      },
      "execution_count": 119,
      "outputs": []
    },
    {
      "cell_type": "code",
      "source": [
        "one_hot_encoder = preprocessing.OneHotEncoder(drop='first', handle_unknown='ignore')"
      ],
      "metadata": {
        "id": "MHgwDZydkbDp"
      },
      "execution_count": 122,
      "outputs": []
    },
    {
      "cell_type": "code",
      "source": [
        "def add_datetime_features(taxi_data):\n",
        "    # Создание столбца \"pickup_date\" с датой включения счетчика/началом поездки (без времени)\n",
        "    taxi_data['pickup_date'] = taxi_data['pickup_datetime'].dt.date\n",
        "\n",
        "    # Создание столбца \"pickup_hour\" с часом включения счетчика\n",
        "    taxi_data['pickup_hour'] = taxi_data['pickup_datetime'].dt.hour\n",
        "\n",
        "    # Создание столбца \"pickup_day_of_week\" с днем недели\n",
        "    taxi_data['pickup_day_of_week'] = taxi_data['pickup_datetime'].dt.dayofweek\n",
        "\n",
        "    return taxi_data\n"
      ],
      "metadata": {
        "id": "cuwZ8aT-lPN6"
      },
      "execution_count": 121,
      "outputs": []
    },
    {
      "cell_type": "code",
      "source": [
        "f_regression = feature_selection.f_regression\n",
        "\n",
        "choice_of_fitch = feature_selection.SelectKBest(score_func=f_regression, k=25)\n",
        "\n",
        "choice_of_fitch_fit = choice_of_fitch.fit(X_train, y_train_log)\n",
        "\n",
        "best_features = choice_of_fitch_fit.get_feature_names_out()\n",
        "\n",
        "print(f\"Число отобранных столбцов: {(len(best_features))}; и их имена: \")\n",
        "print(best_features)"
      ],
      "metadata": {
        "colab": {
          "base_uri": "https://localhost:8080/"
        },
        "id": "ebN3rLprmdcS",
        "outputId": "1bda26d5-5a26-4c08-aa68-1cf77228c033"
      },
      "execution_count": 124,
      "outputs": [
        {
          "output_type": "stream",
          "name": "stdout",
          "text": [
            "Число отобранных столбцов: 25; и их имена: \n",
            "['vendor_id' 'passenger_count' 'pickup_longitude' 'pickup_latitude'\n",
            " 'dropoff_longitude' 'dropoff_latitude' 'store_and_fwd_flag' 'pickup_hour'\n",
            " 'pickup_holiday' 'total_distance' 'total_travel_time' 'number_of_steps'\n",
            " 'haversine_distance' 'temperature' 'pickup_day_of_week_1'\n",
            " 'pickup_day_of_week_2' 'pickup_day_of_week_3' 'pickup_day_of_week_4'\n",
            " 'pickup_day_of_week_5' 'pickup_day_of_week_6' 'geo_cluster_1'\n",
            " 'geo_cluster_3' 'geo_cluster_5' 'geo_cluster_7' 'geo_cluster_9']\n"
          ]
        }
      ]
    },
    {
      "cell_type": "code",
      "source": [
        "scaler = preprocessing.MinMaxScaler()\n",
        "scaler.fit(X_train)"
      ],
      "metadata": {
        "colab": {
          "base_uri": "https://localhost:8080/",
          "height": 74
        },
        "id": "obCBehnfmnGX",
        "outputId": "12348341-85b9-4b9f-8795-1d7d4ca7269f"
      },
      "execution_count": 125,
      "outputs": [
        {
          "output_type": "execute_result",
          "data": {
            "text/plain": [
              "MinMaxScaler()"
            ],
            "text/html": [
              "<style>#sk-container-id-6 {color: black;background-color: white;}#sk-container-id-6 pre{padding: 0;}#sk-container-id-6 div.sk-toggleable {background-color: white;}#sk-container-id-6 label.sk-toggleable__label {cursor: pointer;display: block;width: 100%;margin-bottom: 0;padding: 0.3em;box-sizing: border-box;text-align: center;}#sk-container-id-6 label.sk-toggleable__label-arrow:before {content: \"▸\";float: left;margin-right: 0.25em;color: #696969;}#sk-container-id-6 label.sk-toggleable__label-arrow:hover:before {color: black;}#sk-container-id-6 div.sk-estimator:hover label.sk-toggleable__label-arrow:before {color: black;}#sk-container-id-6 div.sk-toggleable__content {max-height: 0;max-width: 0;overflow: hidden;text-align: left;background-color: #f0f8ff;}#sk-container-id-6 div.sk-toggleable__content pre {margin: 0.2em;color: black;border-radius: 0.25em;background-color: #f0f8ff;}#sk-container-id-6 input.sk-toggleable__control:checked~div.sk-toggleable__content {max-height: 200px;max-width: 100%;overflow: auto;}#sk-container-id-6 input.sk-toggleable__control:checked~label.sk-toggleable__label-arrow:before {content: \"▾\";}#sk-container-id-6 div.sk-estimator input.sk-toggleable__control:checked~label.sk-toggleable__label {background-color: #d4ebff;}#sk-container-id-6 div.sk-label input.sk-toggleable__control:checked~label.sk-toggleable__label {background-color: #d4ebff;}#sk-container-id-6 input.sk-hidden--visually {border: 0;clip: rect(1px 1px 1px 1px);clip: rect(1px, 1px, 1px, 1px);height: 1px;margin: -1px;overflow: hidden;padding: 0;position: absolute;width: 1px;}#sk-container-id-6 div.sk-estimator {font-family: monospace;background-color: #f0f8ff;border: 1px dotted black;border-radius: 0.25em;box-sizing: border-box;margin-bottom: 0.5em;}#sk-container-id-6 div.sk-estimator:hover {background-color: #d4ebff;}#sk-container-id-6 div.sk-parallel-item::after {content: \"\";width: 100%;border-bottom: 1px solid gray;flex-grow: 1;}#sk-container-id-6 div.sk-label:hover label.sk-toggleable__label {background-color: #d4ebff;}#sk-container-id-6 div.sk-serial::before {content: \"\";position: absolute;border-left: 1px solid gray;box-sizing: border-box;top: 0;bottom: 0;left: 50%;z-index: 0;}#sk-container-id-6 div.sk-serial {display: flex;flex-direction: column;align-items: center;background-color: white;padding-right: 0.2em;padding-left: 0.2em;position: relative;}#sk-container-id-6 div.sk-item {position: relative;z-index: 1;}#sk-container-id-6 div.sk-parallel {display: flex;align-items: stretch;justify-content: center;background-color: white;position: relative;}#sk-container-id-6 div.sk-item::before, #sk-container-id-6 div.sk-parallel-item::before {content: \"\";position: absolute;border-left: 1px solid gray;box-sizing: border-box;top: 0;bottom: 0;left: 50%;z-index: -1;}#sk-container-id-6 div.sk-parallel-item {display: flex;flex-direction: column;z-index: 1;position: relative;background-color: white;}#sk-container-id-6 div.sk-parallel-item:first-child::after {align-self: flex-end;width: 50%;}#sk-container-id-6 div.sk-parallel-item:last-child::after {align-self: flex-start;width: 50%;}#sk-container-id-6 div.sk-parallel-item:only-child::after {width: 0;}#sk-container-id-6 div.sk-dashed-wrapped {border: 1px dashed gray;margin: 0 0.4em 0.5em 0.4em;box-sizing: border-box;padding-bottom: 0.4em;background-color: white;}#sk-container-id-6 div.sk-label label {font-family: monospace;font-weight: bold;display: inline-block;line-height: 1.2em;}#sk-container-id-6 div.sk-label-container {text-align: center;}#sk-container-id-6 div.sk-container {/* jupyter's `normalize.less` sets `[hidden] { display: none; }` but bootstrap.min.css set `[hidden] { display: none !important; }` so we also need the `!important` here to be able to override the default hidden behavior on the sphinx rendered scikit-learn.org. See: https://github.com/scikit-learn/scikit-learn/issues/21755 */display: inline-block !important;position: relative;}#sk-container-id-6 div.sk-text-repr-fallback {display: none;}</style><div id=\"sk-container-id-6\" class=\"sk-top-container\"><div class=\"sk-text-repr-fallback\"><pre>MinMaxScaler()</pre><b>In a Jupyter environment, please rerun this cell to show the HTML representation or trust the notebook. <br />On GitHub, the HTML representation is unable to render, please try loading this page with nbviewer.org.</b></div><div class=\"sk-container\" hidden><div class=\"sk-item\"><div class=\"sk-estimator sk-toggleable\"><input class=\"sk-toggleable__control sk-hidden--visually\" id=\"sk-estimator-id-6\" type=\"checkbox\" checked><label for=\"sk-estimator-id-6\" class=\"sk-toggleable__label sk-toggleable__label-arrow\">MinMaxScaler</label><div class=\"sk-toggleable__content\"><pre>MinMaxScaler()</pre></div></div></div></div></div>"
            ]
          },
          "metadata": {},
          "execution_count": 125
        }
      ]
    },
    {
      "cell_type": "markdown",
      "source": [
        "# **!НАЧАЛО ОБРАБОТКИ!**"
      ],
      "metadata": {
        "id": "dmCH8RoVrtxr"
      }
    },
    {
      "cell_type": "code",
      "source": [
        "test_data['pickup_datetime']=pd.to_datetime(test_data['pickup_datetime'],format='%Y-%m-%d %H:%M:%S')\n",
        "test_data = add_datetime_features(test_data)\n",
        "test_data = add_holiday_features(test_data, holiday_data)\n",
        "test_data = add_osrm_features(test_data, osrm_data_test, selected_columns)\n",
        "test_data = add_geographical_features(test_data)\n",
        "test_data = add_cluster_features(test_data, coords, \"geo_cluster\", kmeans)\n",
        "\n",
        "columns = [\n",
        "    \"temperature\",\n",
        "    \"visibility\",\n",
        "    \"wind speed\",\n",
        "    \"precip\",\n",
        "    \"events\",\n",
        "    \"date\",\n",
        "    \"hour\"\n",
        "]\n",
        "\n",
        "left_col_mrg = [\"pickup_date\", \"pickup_hour\"]\n",
        "right_col_mrg = [\"date\", \"hour\"]\n",
        "\n",
        "test_data = add_weather_features(test_data, weather_data, columns, left_col_mrg, right_col_mrg)\n",
        "\n",
        "test_data.drop([\"date\", \"hour\"], axis=1, inplace=True)\n",
        "\n",
        "test_data = fill_null_weather_data(test_data)\n",
        "\n",
        "test_data['vendor_id'] = test_data['vendor_id'].apply(lambda x: 0 if x == 1 else 1)\n",
        "test_data['store_and_fwd_flag'] = test_data['store_and_fwd_flag'].apply(lambda x: 0 if x == 'N' else 1)\n",
        "test_data_onehot = one_hot_encoder.fit_transform(test_data[columns_to_change]).toarray()\n",
        "column_names = one_hot_encoder.get_feature_names_out(columns_to_change)\n",
        "test_data_onehot = pd.DataFrame(test_data_onehot, columns=column_names)\n",
        "\n",
        "test_data = pd.concat(\n",
        "    [test_data.reset_index(drop=True).drop(columns_to_change, axis=1), test_data_onehot], \n",
        "    axis=1\n",
        ")\n",
        "X_test = test_data[best_features]\n",
        "X_test_scaled = scaler.transform(X_test)\n",
        "print('Shape of data: {}'.format(X_test.shape))"
      ],
      "metadata": {
        "colab": {
          "base_uri": "https://localhost:8080/"
        },
        "id": "EoBRp4TYhR6R",
        "outputId": "0160eaf2-6209-44f5-8915-326fc853f767"
      },
      "execution_count": 131,
      "outputs": [
        {
          "output_type": "stream",
          "name": "stdout",
          "text": [
            "Shape of data: (625134, 25)\n"
          ]
        }
      ]
    },
    {
      "cell_type": "code",
      "source": [
        "test_data.head(5)"
      ],
      "metadata": {
        "colab": {
          "base_uri": "https://localhost:8080/",
          "height": 386
        },
        "id": "0SpLFvS9r8ze",
        "outputId": "62bd27d3-b935-4dd5-ebe8-4ee5c373192f"
      },
      "execution_count": 134,
      "outputs": [
        {
          "output_type": "execute_result",
          "data": {
            "text/plain": [
              "          id  vendor_id     pickup_datetime  passenger_count  \\\n",
              "0  id3004672          0 2016-06-30 23:59:58                1   \n",
              "1  id3505355          0 2016-06-30 23:59:53                1   \n",
              "2  id1217141          0 2016-06-30 23:59:47                1   \n",
              "3  id2150126          1 2016-06-30 23:59:41                1   \n",
              "4  id1598245          0 2016-06-30 23:59:33                1   \n",
              "\n",
              "   pickup_longitude  pickup_latitude  dropoff_longitude  dropoff_latitude  \\\n",
              "0        -73.988129        40.732029         -73.990173         40.756680   \n",
              "1        -73.964203        40.679993         -73.959808         40.655403   \n",
              "2        -73.997437        40.737583         -73.986160         40.729523   \n",
              "3        -73.956070        40.771900         -73.986427         40.730469   \n",
              "4        -73.970215        40.761475         -73.961510         40.755890   \n",
              "\n",
              "   store_and_fwd_flag pickup_date  ...  geo_cluster_3  geo_cluster_4  \\\n",
              "0                   0  2016-06-30  ...            0.0            0.0   \n",
              "1                   0  2016-06-30  ...            0.0            0.0   \n",
              "2                   0  2016-06-30  ...            0.0            0.0   \n",
              "3                   0  2016-06-30  ...            0.0            1.0   \n",
              "4                   0  2016-06-30  ...            0.0            1.0   \n",
              "\n",
              "   geo_cluster_5  geo_cluster_6  geo_cluster_7  geo_cluster_8  geo_cluster_9  \\\n",
              "0            0.0            0.0            0.0            0.0            0.0   \n",
              "1            1.0            0.0            0.0            0.0            0.0   \n",
              "2            1.0            0.0            0.0            0.0            0.0   \n",
              "3            0.0            0.0            0.0            0.0            0.0   \n",
              "4            0.0            0.0            0.0            0.0            0.0   \n",
              "\n",
              "   events_None  events_Rain  events_Snow  \n",
              "0          1.0          0.0          0.0  \n",
              "1          1.0          0.0          0.0  \n",
              "2          1.0          0.0          0.0  \n",
              "3          1.0          0.0          0.0  \n",
              "4          1.0          0.0          0.0  \n",
              "\n",
              "[5 rows x 39 columns]"
            ],
            "text/html": [
              "\n",
              "  <div id=\"df-d760a72a-9dc2-48f0-9b5b-bdaf76020a96\">\n",
              "    <div class=\"colab-df-container\">\n",
              "      <div>\n",
              "<style scoped>\n",
              "    .dataframe tbody tr th:only-of-type {\n",
              "        vertical-align: middle;\n",
              "    }\n",
              "\n",
              "    .dataframe tbody tr th {\n",
              "        vertical-align: top;\n",
              "    }\n",
              "\n",
              "    .dataframe thead th {\n",
              "        text-align: right;\n",
              "    }\n",
              "</style>\n",
              "<table border=\"1\" class=\"dataframe\">\n",
              "  <thead>\n",
              "    <tr style=\"text-align: right;\">\n",
              "      <th></th>\n",
              "      <th>id</th>\n",
              "      <th>vendor_id</th>\n",
              "      <th>pickup_datetime</th>\n",
              "      <th>passenger_count</th>\n",
              "      <th>pickup_longitude</th>\n",
              "      <th>pickup_latitude</th>\n",
              "      <th>dropoff_longitude</th>\n",
              "      <th>dropoff_latitude</th>\n",
              "      <th>store_and_fwd_flag</th>\n",
              "      <th>pickup_date</th>\n",
              "      <th>...</th>\n",
              "      <th>geo_cluster_3</th>\n",
              "      <th>geo_cluster_4</th>\n",
              "      <th>geo_cluster_5</th>\n",
              "      <th>geo_cluster_6</th>\n",
              "      <th>geo_cluster_7</th>\n",
              "      <th>geo_cluster_8</th>\n",
              "      <th>geo_cluster_9</th>\n",
              "      <th>events_None</th>\n",
              "      <th>events_Rain</th>\n",
              "      <th>events_Snow</th>\n",
              "    </tr>\n",
              "  </thead>\n",
              "  <tbody>\n",
              "    <tr>\n",
              "      <th>0</th>\n",
              "      <td>id3004672</td>\n",
              "      <td>0</td>\n",
              "      <td>2016-06-30 23:59:58</td>\n",
              "      <td>1</td>\n",
              "      <td>-73.988129</td>\n",
              "      <td>40.732029</td>\n",
              "      <td>-73.990173</td>\n",
              "      <td>40.756680</td>\n",
              "      <td>0</td>\n",
              "      <td>2016-06-30</td>\n",
              "      <td>...</td>\n",
              "      <td>0.0</td>\n",
              "      <td>0.0</td>\n",
              "      <td>0.0</td>\n",
              "      <td>0.0</td>\n",
              "      <td>0.0</td>\n",
              "      <td>0.0</td>\n",
              "      <td>0.0</td>\n",
              "      <td>1.0</td>\n",
              "      <td>0.0</td>\n",
              "      <td>0.0</td>\n",
              "    </tr>\n",
              "    <tr>\n",
              "      <th>1</th>\n",
              "      <td>id3505355</td>\n",
              "      <td>0</td>\n",
              "      <td>2016-06-30 23:59:53</td>\n",
              "      <td>1</td>\n",
              "      <td>-73.964203</td>\n",
              "      <td>40.679993</td>\n",
              "      <td>-73.959808</td>\n",
              "      <td>40.655403</td>\n",
              "      <td>0</td>\n",
              "      <td>2016-06-30</td>\n",
              "      <td>...</td>\n",
              "      <td>0.0</td>\n",
              "      <td>0.0</td>\n",
              "      <td>1.0</td>\n",
              "      <td>0.0</td>\n",
              "      <td>0.0</td>\n",
              "      <td>0.0</td>\n",
              "      <td>0.0</td>\n",
              "      <td>1.0</td>\n",
              "      <td>0.0</td>\n",
              "      <td>0.0</td>\n",
              "    </tr>\n",
              "    <tr>\n",
              "      <th>2</th>\n",
              "      <td>id1217141</td>\n",
              "      <td>0</td>\n",
              "      <td>2016-06-30 23:59:47</td>\n",
              "      <td>1</td>\n",
              "      <td>-73.997437</td>\n",
              "      <td>40.737583</td>\n",
              "      <td>-73.986160</td>\n",
              "      <td>40.729523</td>\n",
              "      <td>0</td>\n",
              "      <td>2016-06-30</td>\n",
              "      <td>...</td>\n",
              "      <td>0.0</td>\n",
              "      <td>0.0</td>\n",
              "      <td>1.0</td>\n",
              "      <td>0.0</td>\n",
              "      <td>0.0</td>\n",
              "      <td>0.0</td>\n",
              "      <td>0.0</td>\n",
              "      <td>1.0</td>\n",
              "      <td>0.0</td>\n",
              "      <td>0.0</td>\n",
              "    </tr>\n",
              "    <tr>\n",
              "      <th>3</th>\n",
              "      <td>id2150126</td>\n",
              "      <td>1</td>\n",
              "      <td>2016-06-30 23:59:41</td>\n",
              "      <td>1</td>\n",
              "      <td>-73.956070</td>\n",
              "      <td>40.771900</td>\n",
              "      <td>-73.986427</td>\n",
              "      <td>40.730469</td>\n",
              "      <td>0</td>\n",
              "      <td>2016-06-30</td>\n",
              "      <td>...</td>\n",
              "      <td>0.0</td>\n",
              "      <td>1.0</td>\n",
              "      <td>0.0</td>\n",
              "      <td>0.0</td>\n",
              "      <td>0.0</td>\n",
              "      <td>0.0</td>\n",
              "      <td>0.0</td>\n",
              "      <td>1.0</td>\n",
              "      <td>0.0</td>\n",
              "      <td>0.0</td>\n",
              "    </tr>\n",
              "    <tr>\n",
              "      <th>4</th>\n",
              "      <td>id1598245</td>\n",
              "      <td>0</td>\n",
              "      <td>2016-06-30 23:59:33</td>\n",
              "      <td>1</td>\n",
              "      <td>-73.970215</td>\n",
              "      <td>40.761475</td>\n",
              "      <td>-73.961510</td>\n",
              "      <td>40.755890</td>\n",
              "      <td>0</td>\n",
              "      <td>2016-06-30</td>\n",
              "      <td>...</td>\n",
              "      <td>0.0</td>\n",
              "      <td>1.0</td>\n",
              "      <td>0.0</td>\n",
              "      <td>0.0</td>\n",
              "      <td>0.0</td>\n",
              "      <td>0.0</td>\n",
              "      <td>0.0</td>\n",
              "      <td>1.0</td>\n",
              "      <td>0.0</td>\n",
              "      <td>0.0</td>\n",
              "    </tr>\n",
              "  </tbody>\n",
              "</table>\n",
              "<p>5 rows × 39 columns</p>\n",
              "</div>\n",
              "      <button class=\"colab-df-convert\" onclick=\"convertToInteractive('df-d760a72a-9dc2-48f0-9b5b-bdaf76020a96')\"\n",
              "              title=\"Convert this dataframe to an interactive table.\"\n",
              "              style=\"display:none;\">\n",
              "        \n",
              "  <svg xmlns=\"http://www.w3.org/2000/svg\" height=\"24px\"viewBox=\"0 0 24 24\"\n",
              "       width=\"24px\">\n",
              "    <path d=\"M0 0h24v24H0V0z\" fill=\"none\"/>\n",
              "    <path d=\"M18.56 5.44l.94 2.06.94-2.06 2.06-.94-2.06-.94-.94-2.06-.94 2.06-2.06.94zm-11 1L8.5 8.5l.94-2.06 2.06-.94-2.06-.94L8.5 2.5l-.94 2.06-2.06.94zm10 10l.94 2.06.94-2.06 2.06-.94-2.06-.94-.94-2.06-.94 2.06-2.06.94z\"/><path d=\"M17.41 7.96l-1.37-1.37c-.4-.4-.92-.59-1.43-.59-.52 0-1.04.2-1.43.59L10.3 9.45l-7.72 7.72c-.78.78-.78 2.05 0 2.83L4 21.41c.39.39.9.59 1.41.59.51 0 1.02-.2 1.41-.59l7.78-7.78 2.81-2.81c.8-.78.8-2.07 0-2.86zM5.41 20L4 18.59l7.72-7.72 1.47 1.35L5.41 20z\"/>\n",
              "  </svg>\n",
              "      </button>\n",
              "      \n",
              "  <style>\n",
              "    .colab-df-container {\n",
              "      display:flex;\n",
              "      flex-wrap:wrap;\n",
              "      gap: 12px;\n",
              "    }\n",
              "\n",
              "    .colab-df-convert {\n",
              "      background-color: #E8F0FE;\n",
              "      border: none;\n",
              "      border-radius: 50%;\n",
              "      cursor: pointer;\n",
              "      display: none;\n",
              "      fill: #1967D2;\n",
              "      height: 32px;\n",
              "      padding: 0 0 0 0;\n",
              "      width: 32px;\n",
              "    }\n",
              "\n",
              "    .colab-df-convert:hover {\n",
              "      background-color: #E2EBFA;\n",
              "      box-shadow: 0px 1px 2px rgba(60, 64, 67, 0.3), 0px 1px 3px 1px rgba(60, 64, 67, 0.15);\n",
              "      fill: #174EA6;\n",
              "    }\n",
              "\n",
              "    [theme=dark] .colab-df-convert {\n",
              "      background-color: #3B4455;\n",
              "      fill: #D2E3FC;\n",
              "    }\n",
              "\n",
              "    [theme=dark] .colab-df-convert:hover {\n",
              "      background-color: #434B5C;\n",
              "      box-shadow: 0px 1px 3px 1px rgba(0, 0, 0, 0.15);\n",
              "      filter: drop-shadow(0px 1px 2px rgba(0, 0, 0, 0.3));\n",
              "      fill: #FFFFFF;\n",
              "    }\n",
              "  </style>\n",
              "\n",
              "      <script>\n",
              "        const buttonEl =\n",
              "          document.querySelector('#df-d760a72a-9dc2-48f0-9b5b-bdaf76020a96 button.colab-df-convert');\n",
              "        buttonEl.style.display =\n",
              "          google.colab.kernel.accessAllowed ? 'block' : 'none';\n",
              "\n",
              "        async function convertToInteractive(key) {\n",
              "          const element = document.querySelector('#df-d760a72a-9dc2-48f0-9b5b-bdaf76020a96');\n",
              "          const dataTable =\n",
              "            await google.colab.kernel.invokeFunction('convertToInteractive',\n",
              "                                                     [key], {});\n",
              "          if (!dataTable) return;\n",
              "\n",
              "          const docLinkHtml = 'Like what you see? Visit the ' +\n",
              "            '<a target=\"_blank\" href=https://colab.research.google.com/notebooks/data_table.ipynb>data table notebook</a>'\n",
              "            + ' to learn more about interactive tables.';\n",
              "          element.innerHTML = '';\n",
              "          dataTable['output_type'] = 'display_data';\n",
              "          await google.colab.output.renderOutput(dataTable, element);\n",
              "          const docLink = document.createElement('div');\n",
              "          docLink.innerHTML = docLinkHtml;\n",
              "          element.appendChild(docLink);\n",
              "        }\n",
              "      </script>\n",
              "    </div>\n",
              "  </div>\n",
              "  "
            ]
          },
          "metadata": {},
          "execution_count": 134
        }
      ]
    },
    {
      "cell_type": "code",
      "source": [
        "def save_result(name_old_df, name_table):\n",
        "  \"\"\"\n",
        "  Функция сохраняет pandas DataFrame в таблицу формата .csv.\n",
        "\n",
        "  Параметры:\n",
        "  name_old_df (pandas DataFrame): DataFrame, который  будет преобразован в таблицу.\n",
        "  name_table (str): Имя таблицы без формата.\n",
        "\n",
        "  Пример использования:\n",
        "  save_result(df, 'my_data')\n",
        "  \"\"\"\n",
        "\n",
        "  name_table += \".csv\"\n",
        "  name_old_df.to_csv(name_table, sep=',' , index=False)\n",
        "  !cp {name_table} \"drive/My Drive/\""
      ],
      "metadata": {
        "id": "FDLyBscBtGVi"
      },
      "execution_count": 138,
      "outputs": []
    },
    {
      "cell_type": "code",
      "source": [
        "save_result(test_data, 'test_data_colab')\n",
        "save_result(X_test, 'X_test_colab')\n",
        "\n",
        "np.save('X_test_scaled_colab.npy', X_test_scaled)\n",
        "!cp 'X_test_scaled_colab.npy' \"drive/My Drive/\""
      ],
      "metadata": {
        "id": "WNGD-QKpsl4Z"
      },
      "execution_count": 146,
      "outputs": []
    },
    {
      "cell_type": "markdown",
      "source": [
        "Только после выполнения всех этих шагов можно сделать предсказание длительности поездки для тестовой выборки. Не забудьте перевести предсказания из логарифмического масштаба в истинный, используя формулу:\n",
        "$$y_i=exp(z_i)-1$$\n",
        "\n",
        "После того, как вы сформируете предсказание длительности поездок на тестовой выборке вам необходимо будет создать submission-файл в формате csv, отправить его на платформу Kaggle и посмотреть на результирующее значение метрики RMSLE на тестовой выборке.\n",
        "\n",
        "Код для создания submission-файла:\n"
      ],
      "metadata": {
        "id": "n7xOu494vL_R"
      }
    },
    {
      "cell_type": "code",
      "source": [
        "X_test_end = pd.DataFrame(data=X_test_scaled, columns=X_test.columns)"
      ],
      "metadata": {
        "id": "W-g0DjRLw87N"
      },
      "execution_count": 163,
      "outputs": []
    },
    {
      "cell_type": "code",
      "source": [
        "y_test_predict_end = gradbost.predict(X_test_end)"
      ],
      "metadata": {
        "id": "Uk3pdJMqxz9n"
      },
      "execution_count": 164,
      "outputs": []
    },
    {
      "cell_type": "code",
      "source": [
        "y_test_predict = np.exp(y_test_predict_end) - 1"
      ],
      "metadata": {
        "id": "c65hlc0gyUZk"
      },
      "execution_count": 165,
      "outputs": []
    },
    {
      "cell_type": "markdown",
      "source": [
        "# Выгрузка результата"
      ],
      "metadata": {
        "id": "g70dKZoOxmsc"
      }
    },
    {
      "cell_type": "code",
      "source": [
        "# ваш код здесь\n",
        "submission = pd.DataFrame({'id': test_id, 'trip_duration': y_test_predict})\n",
        "submission.to_csv('submission_gb.csv', index=False)"
      ],
      "metadata": {
        "id": "EQoi-Z3Tl-nR"
      },
      "execution_count": 166,
      "outputs": []
    }
  ]
}